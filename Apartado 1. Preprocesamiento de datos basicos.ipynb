{
 "cells": [
  {
   "cell_type": "markdown",
   "metadata": {},
   "source": [
    "# Análisis, limpieza y transformación de los datos básicos de empresas\n",
    "El siguiente cuaderno es el punto de partida del desarrollo del proyecto. A través de una lista de cuadernos, se llevan a cabo todas las actividades del desarrollo, y se complementan con las explicaciones sobre las hipótesis, resultados, y decisiones tomadas a lo largo de la ejecución.\n",
    "\n",
    "En primer lugar, se realiza el análisis, la limpieza y la transformación de datos de la fuente \"DatosEmpresa\". Esta fuente contienen información básica sobre las empresas en Colombia. Por ejemplo el número de empleados, la denominación de tamaño de la empresa según el reglamento colombiano, el sector...\n",
    "\n",
    "Los datos son una extracción realizada por Santiago Rojo, el director del proyecto, a través de la información pública disponible en las distintas superintendencias de Colombia. Las empresas han sido anonimizadas y únicamente se identifican por un número arbitrario.\n",
    "\n",
    "El proyecto también contempla el dataset de ejercicios fiscales de las empresas, pero se procesa en otro cuaderno.\n",
    "\n",
    "El dataset de datos básicos contiene un total de 8 columnas:\n",
    "\n",
    "* Id: Identificador de la empresa. Es un número único para cada empresa.\n",
    "* Tipologia: tipo de empresa, como por ejemplo sociedad comercial o entidad sin ánimo de lucro.\n",
    "* Ciiu: [código ciiu](https://www.gerencie.com/codigos-ciiu.html) de la actividad principal de la empresa.\n",
    "* Sociedad: [tipo de sociedad](https://jlcauditors.com/cuales-tipos-sociedades-colombia/) en Colombia.\n",
    "* Tamanyo: denominación de tamaño de la empresa según decreto.\n",
    "* Departamento: departamento de la empresa (unidad territorial en Colombia).\n",
    "* Localidad: municipio concreto de la empresa.\n",
    "* NumEmpleados: número de empleados de la empresa (2019).\n",
    "* AnyoConstitucion: año de constitución de la empresa.\n",
    "\n",
    "## Análisis preliminar\n",
    "En primer lugar, se analizan las variables y su distribución:"
   ]
  },
  {
   "cell_type": "code",
   "execution_count": 22,
   "metadata": {},
   "outputs": [],
   "source": [
    "import pandas as pd\n",
    "import numpy as np\n",
    "import matplotlib.pyplot as plt\n",
    "import seaborn as sns\n",
    "import numpy as np\n",
    "from scipy import stats\n",
    "import unidecode\n",
    "import matplotlib as mpl"
   ]
  },
  {
   "cell_type": "code",
   "execution_count": 23,
   "metadata": {},
   "outputs": [
    {
     "name": "stdout",
     "output_type": "stream",
     "text": [
      "<class 'pandas.core.frame.DataFrame'>\n",
      "RangeIndex: 13357 entries, 0 to 13356\n",
      "Data columns (total 9 columns):\n",
      " #   Column            Non-Null Count  Dtype  \n",
      "---  ------            --------------  -----  \n",
      " 0   Id                13357 non-null  int64  \n",
      " 1   Tipologia         13357 non-null  object \n",
      " 2   Ciiu              13357 non-null  object \n",
      " 3   Sociedad          13357 non-null  object \n",
      " 4   Tamanyo           13357 non-null  object \n",
      " 5   Departamento      13357 non-null  object \n",
      " 6   Localidad         13357 non-null  object \n",
      " 7   NumEmpleados      13040 non-null  float64\n",
      " 8   AnyoConstitucion  13350 non-null  float64\n",
      "dtypes: float64(2), int64(1), object(6)\n",
      "memory usage: 939.3+ KB\n"
     ]
    }
   ],
   "source": [
    "# Obtener los datos del fichero fuente\n",
    "basicos = pd.read_excel('data/DatosEmpresa.xls', names=['Id','Tipologia','Ciiu','Sociedad','Tamanyo',\\\n",
    "                        'Departamento','Localidad','NumEmpleados','AnyoConstitucion'])\n",
    "\n",
    "# Mostrar las columnas, su tipo de datos, y el número de celdas perdidas\n",
    "basicos.info()"
   ]
  },
  {
   "cell_type": "markdown",
   "metadata": {},
   "source": [
    "Se observa que:\n",
    "\n",
    "* Solo las columnas NumEmpleados y AnyoConstitucion contienen valores perdidos. Esto son las empresas cuya fecha de constitución y/o número de empleados no son conocidos.\n",
    "* El resto de columnas no contienen valores perdidos.\n",
    "\n",
    "### Variables numéricas\n",
    "Para empezar, se observan los estadísticos básicos y las distribuciones de las variables numéricas."
   ]
  },
  {
   "cell_type": "code",
   "execution_count": 24,
   "metadata": {},
   "outputs": [
    {
     "data": {
      "text/html": [
       "<div>\n",
       "<style scoped>\n",
       "    .dataframe tbody tr th:only-of-type {\n",
       "        vertical-align: middle;\n",
       "    }\n",
       "\n",
       "    .dataframe tbody tr th {\n",
       "        vertical-align: top;\n",
       "    }\n",
       "\n",
       "    .dataframe thead th {\n",
       "        text-align: right;\n",
       "    }\n",
       "</style>\n",
       "<table border=\"1\" class=\"dataframe\">\n",
       "  <thead>\n",
       "    <tr style=\"text-align: right;\">\n",
       "      <th></th>\n",
       "      <th>Id</th>\n",
       "      <th>NumEmpleados</th>\n",
       "      <th>AnyoConstitucion</th>\n",
       "    </tr>\n",
       "  </thead>\n",
       "  <tbody>\n",
       "    <tr>\n",
       "      <th>count</th>\n",
       "      <td>1.335700e+04</td>\n",
       "      <td>13040.000000</td>\n",
       "      <td>13350.000000</td>\n",
       "    </tr>\n",
       "    <tr>\n",
       "      <th>mean</th>\n",
       "      <td>1.382476e+09</td>\n",
       "      <td>194.206902</td>\n",
       "      <td>1996.058951</td>\n",
       "    </tr>\n",
       "    <tr>\n",
       "      <th>std</th>\n",
       "      <td>5.063684e+09</td>\n",
       "      <td>794.448365</td>\n",
       "      <td>14.993285</td>\n",
       "    </tr>\n",
       "    <tr>\n",
       "      <th>min</th>\n",
       "      <td>2.331510e+05</td>\n",
       "      <td>1.000000</td>\n",
       "      <td>1875.000000</td>\n",
       "    </tr>\n",
       "    <tr>\n",
       "      <th>25%</th>\n",
       "      <td>6.932400e+05</td>\n",
       "      <td>10.000000</td>\n",
       "      <td>1988.000000</td>\n",
       "    </tr>\n",
       "    <tr>\n",
       "      <th>50%</th>\n",
       "      <td>2.742966e+06</td>\n",
       "      <td>40.000000</td>\n",
       "      <td>1999.000000</td>\n",
       "    </tr>\n",
       "    <tr>\n",
       "      <th>75%</th>\n",
       "      <td>1.164011e+08</td>\n",
       "      <td>123.000000</td>\n",
       "      <td>2008.000000</td>\n",
       "    </tr>\n",
       "    <tr>\n",
       "      <th>max</th>\n",
       "      <td>2.158508e+10</td>\n",
       "      <td>36757.000000</td>\n",
       "      <td>2017.000000</td>\n",
       "    </tr>\n",
       "  </tbody>\n",
       "</table>\n",
       "</div>"
      ],
      "text/plain": [
       "                 Id  NumEmpleados  AnyoConstitucion\n",
       "count  1.335700e+04  13040.000000      13350.000000\n",
       "mean   1.382476e+09    194.206902       1996.058951\n",
       "std    5.063684e+09    794.448365         14.993285\n",
       "min    2.331510e+05      1.000000       1875.000000\n",
       "25%    6.932400e+05     10.000000       1988.000000\n",
       "50%    2.742966e+06     40.000000       1999.000000\n",
       "75%    1.164011e+08    123.000000       2008.000000\n",
       "max    2.158508e+10  36757.000000       2017.000000"
      ]
     },
     "execution_count": 24,
     "metadata": {},
     "output_type": "execute_result"
    }
   ],
   "source": [
    "# Describir los datos básicos numéricos\n",
    "basicos.describe()"
   ]
  },
  {
   "cell_type": "markdown",
   "metadata": {},
   "source": [
    "El número de empleados tiene un valor máximo mucho más grande que su media. La causa son las empresas más grandes del país, que tienen un número de empleados anormalmente grande.\n",
    "\n",
    "Para poder observar la distribución de la variable de forma efectiva, se filtran aquellas empresas con un número de empleados superior a 1000."
   ]
  },
  {
   "cell_type": "code",
   "execution_count": 25,
   "metadata": {},
   "outputs": [
    {
     "data": {
      "image/png": "[encoded data removed]",
      "text/plain": [
       "<Figure size 432x288 with 1 Axes>"
      ]
     },
     "metadata": {
      "needs_background": "light"
     },
     "output_type": "display_data"
    },
    {
     "name": "stdout",
     "output_type": "stream",
     "text": [
      "La moda de la variable es: 1.0 \n"
     ]
    }
   ],
   "source": [
    "# Observar el histograma del número de empleados filtrando las empresas de tamaño grande\n",
    "#fig = plt.figure(figsize=(1,1))\n",
    "sns.histplot(data=basicos[basicos['NumEmpleados'] < 1000], x=\"NumEmpleados\")\n",
    "plt.title(\"Histograma de número de empleados\")\n",
    "plt.show()\n",
    "print(\"La moda de la variable es: {0} \".format(basicos['NumEmpleados'].mode()[0]))"
   ]
  },
  {
   "cell_type": "markdown",
   "metadata": {},
   "source": [
    "La distribución se asemeja a la exponencial, lo que indica que a mayor tamaño de empresa, menor frecuencia de aparición. Esto significa que las empresas medianas y pequeñas representan la gran mayoría.\n",
    "\n",
    "El mayor número de empleados es 1, lo que indica que la moda de la variable es representada por las empresas de 1 solo trabajador.\n",
    "\n",
    "Para finalizar con las variables numéricas, se analiza el histograma del año de constitución de las empresas."
   ]
  },
  {
   "cell_type": "code",
   "execution_count": 26,
   "metadata": {
    "scrolled": true
   },
   "outputs": [
    {
     "data": {
      "image/png": "[encoded data removed]",
      "text/plain": [
       "<Figure size 432x288 with 1 Axes>"
      ]
     },
     "metadata": {
      "needs_background": "light"
     },
     "output_type": "display_data"
    },
    {
     "name": "stdout",
     "output_type": "stream",
     "text": [
      "Moda del año de constitución: 2011.0\n"
     ]
    }
   ],
   "source": [
    "# Observar el histograma del año de constitución de la empresa. Se utilizan tantos contenedores como años en el dataset\n",
    "sns.histplot(data=basicos, x=\"AnyoConstitucion\", \\\n",
    "             bins=int(basicos['AnyoConstitucion'].max()-basicos['AnyoConstitucion'].min()))\n",
    "plt.title(\"Histograma del año de constitución\")\n",
    "plt.show()\n",
    "print(\"Moda del año de constitución: {}\".format(basicos['AnyoConstitucion'].mode()[0]))"
   ]
  },
  {
   "cell_type": "markdown",
   "metadata": {},
   "source": [
    "La distribución muestra un crecimiento prolongado y acelerado del número de empresas hasta el valor de la moda (2011). Después de esa fecha, la creación de empresas cae en picado con una pendiente muy pronunciada.\n",
    "\n",
    "Esto se debe muy probablemente a un **desequilibrio** en los datos, ya que no hay ninguna fuente oficial que reporte dicha caída precipitada en la creación de empresas en Colombia. [Fuente](https://www.valoraanalitik.com/2021/01/24/creacion-de-empresas-en-colombia-cayo-94-en-2020-frente-al-2019/)\n",
    "\n",
    "Aunque la fecha de creación de la empresa sea desequilibrada, no supone problema alguno si se utilizan ciertas definiciones de zombi, ya que requieren que las empresas tengan una antigüedad mínima fijada. Por ejemplo, la definición de EZ de la OECD requiere que la antigüedad de la empresa sea mayor a 10 años.\n",
    "\n",
    "Aun así, otras definiciones sí que pueden utilizar estas empresas, por lo que será necesario tener presente este desequilibrio en posteriores análisis."
   ]
  },
  {
   "cell_type": "markdown",
   "metadata": {},
   "source": [
    "### Variables categóricas\n",
    "Las variables categóricas de la fuente de datos sobrepasan las numéricas. La primera de ellas es el tamaño de la empresa. Según el decreto [957 de 2019](https://www.ccb.org.co/Inscripciones-y-renovaciones/Normativa-Registros-Publicos/Normatividad-Registro-Unico-de-Proponentes) de la cámara de comercio de Bogotá, el tamaño de una empresa se calcula en función de sus ingresos brutos, y se clasifica en las siguientes categorías:\n",
    "\n",
    "* Microempresa (MC)\n",
    "* Pequeña empresa (PQ)\n",
    "* Mediana empresa (MD)\n",
    "* Gran empresa (GR)\n",
    "\n",
    "A continuación se observan la distribución de las categorías del tamaño de la empresa y la estimación del número de empleados de cada grupo mediante un barplot con intervalo de confianza del error en cada grupo."
   ]
  },
  {
   "cell_type": "code",
   "execution_count": 27,
   "metadata": {},
   "outputs": [
    {
     "data": {
      "image/png": "[encoded data removed]",
      "text/plain": [
       "<Figure size 864x432 with 2 Axes>"
      ]
     },
     "metadata": {
      "needs_background": "light"
     },
     "output_type": "display_data"
    }
   ],
   "source": [
    "# Comparar los counts del tamaño de empresa y el número de empleados.\n",
    "fig, axes = plt.subplots(1,2, figsize=(12,6))\n",
    "sns.countplot(data=basicos,x=\"Tamanyo\",ax=axes[0])\n",
    "axes[0].set_title(\"Distribución del tamaño de la empresa\")\n",
    "sns.barplot(data=basicos,x=\"Tamanyo\",y=\"NumEmpleados\",ax=axes[1])\n",
    "axes[1].set_title(\"Número de empleados vs tamaño de la empresa\")\n",
    "plt.show()"
   ]
  },
  {
   "cell_type": "markdown",
   "metadata": {},
   "source": [
    "Estas visualizaciones confirman que a mayor número de empleados, mayor denominación de tamaño.\n",
    "\n",
    "También se observa que las grandes empresas absorben una cantidad anormal de trabajadores respecto a los otros grupos. Los grupos más pequeños crecen de forma regular respecto al número de empleados, pero las empresas grandes presentan un salto enorme en ese número.\n",
    "\n",
    "Siguiendo con otras variables, se muestra el conteo de categorías de la variable Tipologia."
   ]
  },
  {
   "cell_type": "code",
   "execution_count": 28,
   "metadata": {},
   "outputs": [
    {
     "data": {
      "text/plain": [
       "SOCIEDAD COMERCIAL/INDUSTRIAL    12854\n",
       "ENTIDAD EXTRANJERA                 270\n",
       "ENTIDAD SIN ANIMO DE LUCRO         137\n",
       "EMPRESARIO INDIVIDUAL               85\n",
       "SOCIEDAD NO COMERCIAL               11\n",
       "Name: Tipologia, dtype: int64"
      ]
     },
     "execution_count": 28,
     "metadata": {},
     "output_type": "execute_result"
    }
   ],
   "source": [
    "basicos['Tipologia'].value_counts()"
   ]
  },
  {
   "cell_type": "markdown",
   "metadata": {},
   "source": [
    "El dataset está claramente dominado por las sociedades comerciales o industriales.\n",
    "\n",
    "Los departamentos en Colombia son las distintas regiones que dividen el territorio del país. Existen un total de 32 departamentos, más el distrito capital, que se considera un departamento por sí mismo. Este departamento es la ciudad de Bogotá."
   ]
  },
  {
   "cell_type": "code",
   "execution_count": 29,
   "metadata": {},
   "outputs": [
    {
     "name": "stdout",
     "output_type": "stream",
     "text": [
      "Número total de departamentos: 29\n",
      "Conto de departamentos:\n"
     ]
    },
    {
     "data": {
      "text/plain": [
       "BOGOTA             6162\n",
       "ANTIOQUIA          2221\n",
       "VALLE              1114\n",
       "CUNDINAMARCA        886\n",
       "ATLANTICO           683\n",
       "SANTANDER           485\n",
       "BOLIVAR             273\n",
       "RISARALDA           224\n",
       "NORTE SANTANDER     148\n",
       "CALDAS              142\n",
       "MAGDALENA           141\n",
       "META                108\n",
       "TOLIMA              106\n",
       "QUINDIO              86\n",
       "HUILA                84\n",
       "BOYACA               83\n",
       "CAUCA                80\n",
       "CORDOBA              73\n",
       "NARINO               70\n",
       "CESAR                58\n",
       "CASANARE             47\n",
       "SUCRE                32\n",
       "CAQUETA              19\n",
       "LA GUAJIRA           11\n",
       "PUTUMAYO              7\n",
       "AMAZONAS              5\n",
       "CHOCO                 4\n",
       "ARAUCA                3\n",
       "VICHADA               2\n",
       "Name: Departamento, dtype: int64"
      ]
     },
     "execution_count": 29,
     "metadata": {},
     "output_type": "execute_result"
    }
   ],
   "source": [
    "# Observar el número de departamentos del dataset y el conteo de elementos\n",
    "print(\"Número total de departamentos: {0}\".format(len(basicos['Departamento'].value_counts())))\n",
    "print(\"Conto de departamentos:\")\n",
    "basicos['Departamento'].value_counts()"
   ]
  },
  {
   "cell_type": "markdown",
   "metadata": {},
   "source": [
    "En la fuente de datos, no existe ninguna empresa en los departamentos de Vaupés, San Andrés, Guainía y Guaviare. Este hecho es esperable, ya que los departamentos en cuestión no disponen de demasiados municipios ni habitantes (con la excepción de San Andrés). [Fuente](https://es.wikipedia.org/wiki/Departamentos_de_Colombia)\n",
    "\n",
    "También se pueden analizar las ciudades o localidades presentes en los datos. En este caso existen muchos más categorías, equivalentes al número de ciudades."
   ]
  },
  {
   "cell_type": "code",
   "execution_count": 30,
   "metadata": {},
   "outputs": [
    {
     "name": "stdout",
     "output_type": "stream",
     "text": [
      "Número total de localidades: 263\n"
     ]
    },
    {
     "data": {
      "image/png": "[encoded data removed]",
      "text/plain": [
       "<Figure size 432x288 with 1 Axes>"
      ]
     },
     "metadata": {
      "needs_background": "light"
     },
     "output_type": "display_data"
    }
   ],
   "source": [
    "print(\"Número total de localidades: {0}\".format(len(basicos['Localidad'].unique())))\n",
    "top_localidad = pd.DataFrame(basicos['Localidad'].value_counts().head())\n",
    "top_localidad = top_localidad.rename(columns={'Localidad':'NumEmpresas'})\n",
    "top_localidad.plot(kind = 'barh')\n",
    "plt.title(\"Top 5 de localidades con mayor número de empresas\")\n",
    "plt.show()"
   ]
  },
  {
   "cell_type": "markdown",
   "metadata": {},
   "source": [
    "Y, por último, la variable del tipo de sociedad de la empresa. Se trata de una abreviatura que puede tomar distintos valores:\n",
    "\n",
    "* SAS: Sociedad por acciones simplificada.\n",
    "* SL: Sociedad limitada.\n",
    "* SA: Sociedad anónima.\n",
    "* SCA: Sociedad en comandita por acciones.\n",
    "* SCS: Sociedad en comandita simple.\n",
    "* EU: Empresa unipersonal.\n",
    "* SE: Sociedad Extranjera.\n",
    "* PN: Persona Natural con actividad (lo que llamamos Autónomo en España).\n",
    "* OES: Organización de Economía Solidaria.\n",
    "* SCV: Sociedad Civil.\n",
    "* ESAL: Empresa Sin Ánimo de Lucro.\n",
    "* AL: Administración Local.\n",
    "* ASO: Asociación.\n",
    "* SH: Sociedad de Hecho.\n",
    "\n",
    "La gran mayoría de empresas caen dentro de los grupos de sociedades por acciones simplificadas, sociedades anónimas y sociedades limitadas."
   ]
  },
  {
   "cell_type": "code",
   "execution_count": 31,
   "metadata": {},
   "outputs": [
    {
     "data": {
      "image/png": "[encoded data removed]",
      "text/plain": [
       "<Figure size 432x288 with 1 Axes>"
      ]
     },
     "metadata": {
      "needs_background": "light"
     },
     "output_type": "display_data"
    }
   ],
   "source": [
    "# Observar los recuentos del tipo de sociedad\n",
    "sns.countplot(data=basicos,x=\"Sociedad\")\n",
    "plt.title(\"Distribución de categorías de Sociedad\")\n",
    "plt.show()"
   ]
  },
  {
   "cell_type": "markdown",
   "metadata": {},
   "source": [
    "### Tratamiento de valores perdidos y atípicos\n",
    "Solo dos columnas presentan valores perdidos en la fuente de datos. El número de filas sin informar es muy bajo en las dos variables. Por lo tanto, no es necesario dedicar un gran esfuerzo en la imputación de estos valores. Se proponen las siguientes acciones:\n",
    "\n",
    "1. Informar del número de empleados con la media de los grupos del tamaño de empresa.\n",
    "2. Informar del año de constitución con la media de la misma variable."
   ]
  },
  {
   "cell_type": "code",
   "execution_count": 32,
   "metadata": {},
   "outputs": [
    {
     "data": {
      "text/plain": [
       "Tamanyo\n",
       "GR    413.876448\n",
       "MC      8.681529\n",
       "MD     92.962778\n",
       "PQ     38.788828\n",
       "Name: NumEmpleados, dtype: float64"
      ]
     },
     "execution_count": 32,
     "metadata": {},
     "output_type": "execute_result"
    }
   ],
   "source": [
    "# Media de empleados según el tamaño de la empresa\n",
    "basicos.groupby(['Tamanyo'])['NumEmpleados'].mean()"
   ]
  },
  {
   "cell_type": "code",
   "execution_count": 33,
   "metadata": {},
   "outputs": [
    {
     "data": {
      "text/plain": [
       "1996.0589513108614"
      ]
     },
     "execution_count": 33,
     "metadata": {},
     "output_type": "execute_result"
    }
   ],
   "source": [
    "# Media del año de constitución\n",
    "basicos['AnyoConstitucion'].mean()"
   ]
  },
  {
   "cell_type": "code",
   "execution_count": 34,
   "metadata": {},
   "outputs": [
    {
     "name": "stdout",
     "output_type": "stream",
     "text": [
      "<class 'pandas.core.frame.DataFrame'>\n",
      "RangeIndex: 13357 entries, 0 to 13356\n",
      "Data columns (total 9 columns):\n",
      " #   Column            Non-Null Count  Dtype  \n",
      "---  ------            --------------  -----  \n",
      " 0   Id                13357 non-null  int64  \n",
      " 1   Tipologia         13357 non-null  object \n",
      " 2   Ciiu              13357 non-null  object \n",
      " 3   Sociedad          13357 non-null  object \n",
      " 4   Tamanyo           13357 non-null  object \n",
      " 5   Departamento      13357 non-null  object \n",
      " 6   Localidad         13357 non-null  object \n",
      " 7   NumEmpleados      13357 non-null  float64\n",
      " 8   AnyoConstitucion  13357 non-null  float64\n",
      "dtypes: float64(2), int64(1), object(6)\n",
      "memory usage: 939.3+ KB\n"
     ]
    }
   ],
   "source": [
    "# Imputar los valores con la media de grupos y la media, respectivamente\n",
    "basicos['NumEmpleados'].fillna(basicos.groupby(['Tamanyo'])['NumEmpleados'].transform('mean').round().astype(int), inplace=True)\n",
    "basicos['AnyoConstitucion'].fillna(basicos['AnyoConstitucion'].mean().round().astype(int), inplace=True)\n",
    "# Crear el nuevo dataframe con las nuevas columnas\n",
    "basicos_nomissings = basicos\n",
    "basicos_nomissings.info()"
   ]
  },
  {
   "cell_type": "markdown",
   "metadata": {},
   "source": [
    "Los valores atípicos son aquellas empresas con un número de empleados mucho más grande que lo normal. Estas empresas pueden significar una gran parcialidad (bias) para los algoritmos de aprendizaje automático, por lo que se deben tratar adecuadamente.\n",
    "\n",
    "En este caso, la distribución del número de empleados es exponencial, y tiende a pocas empresas a medida que se incrementa el número de empleados. No es posible eliminar las empresas más grandes mediante el descarte según desviaciones típicas, ya que se filtrarían muchísimas empresas fuera.\n",
    "\n",
    "Alternativamente, se podría aplicar una transformación para reducir el efecto de las empresas con un gran número de empleados. La más adecuada es la transformación logarítmica, que escala los datos utilizando un logaritmo en cualquier base. Esto reduce la gran diferencia entre los valores centrales y atípicos, y no es difícil de invertir. Además, conserva la propiedad del orden entre empresas, por lo que resulta ideal."
   ]
  },
  {
   "cell_type": "code",
   "execution_count": 35,
   "metadata": {},
   "outputs": [
    {
     "data": {
      "image/png": "[encoded data removed]",
      "text/plain": [
       "<Figure size 432x288 with 1 Axes>"
      ]
     },
     "metadata": {
      "needs_background": "light"
     },
     "output_type": "display_data"
    }
   ],
   "source": [
    "# Aplicar el logaritmo al número de empleados\n",
    "basicos_nomissings['NumEmpleadosLog'] = basicos_nomissings['NumEmpleados'].apply(lambda x: np.log10(x))\n",
    "sns.histplot(data=basicos_nomissings, x = 'NumEmpleadosLog', bins=20)\n",
    "plt.title(\"Histograma de Log10(NumEmpleados)\")\n",
    "plt.show()"
   ]
  },
  {
   "cell_type": "markdown",
   "metadata": {},
   "source": [
    "De esta manera se reduce el impacto de los valores atípicos. Se puede observar el pico que ocurre en las empresas con un único empleado en la banda izquierda de la distribución."
   ]
  },
  {
   "cell_type": "markdown",
   "metadata": {},
   "source": [
    "### Transformación de datos\n",
    "Las transformaciones de datos buscan mejorar la calidad de los procesos de aprendizaje automático que se puedan aplicar en el futuro.\n",
    "\n",
    "Las transformaciones propuestas son:\n",
    "\n",
    "1. Extraer toda la información posible del código Ciiu (actividad de la empresa).\n",
    "2. Obtener el número de habitantes de las localidades y discretizar los valores para deducir si son rurales o urbanos.\n",
    "\n",
    "En primer lugar, es posible extraer la información detallada del código CIIU del departamento administrativo nacional de estadística (DANE) de Colombia. Esto se realiza en el cuaderno \"Extracciones\" de este mismo repositorio. La salida del cuaderno es un dataset con todas las actividades desglosadas para cada posible código CIIU.\n",
    "\n",
    "Mediante una operación de join, es posible incorporar dicha información al dataset actual, prescindiendo de la columna del código ciiu, que deja de aportar valor.\n",
    "\n",
    "En segundo lugar, también es posible extraer la denominación de ruralidad a partir de los datos estadísticos de la población publicados por el DANE. Esta extracción también se realiza en el mismo cuaderno mencionado anteriormente.\n",
    "\n",
    "A continuación se cargan y enlazan los resultados con el dataset principal."
   ]
  },
  {
   "cell_type": "code",
   "execution_count": 36,
   "metadata": {},
   "outputs": [
    {
     "data": {
      "text/html": [
       "<div>\n",
       "<style scoped>\n",
       "    .dataframe tbody tr th:only-of-type {\n",
       "        vertical-align: middle;\n",
       "    }\n",
       "\n",
       "    .dataframe tbody tr th {\n",
       "        vertical-align: top;\n",
       "    }\n",
       "\n",
       "    .dataframe thead th {\n",
       "        text-align: right;\n",
       "    }\n",
       "</style>\n",
       "<table border=\"1\" class=\"dataframe\">\n",
       "  <thead>\n",
       "    <tr style=\"text-align: right;\">\n",
       "      <th></th>\n",
       "      <th>Ciiu</th>\n",
       "      <th>Seccion</th>\n",
       "      <th>SeccionDesc</th>\n",
       "      <th>Division</th>\n",
       "      <th>DivisionDesc</th>\n",
       "      <th>Grupo</th>\n",
       "      <th>GrupoDesc</th>\n",
       "      <th>Clase</th>\n",
       "      <th>ClaseDesc</th>\n",
       "    </tr>\n",
       "  </thead>\n",
       "  <tbody>\n",
       "    <tr>\n",
       "      <th>0</th>\n",
       "      <td>A0111</td>\n",
       "      <td>A</td>\n",
       "      <td>AGRICULTURA, GANADERÍA, CAZA, SILVICULTURA Y P...</td>\n",
       "      <td>01</td>\n",
       "      <td>Agricultura, ganadería, caza y actividades de ...</td>\n",
       "      <td>011</td>\n",
       "      <td>Cultivos agrícolas transitorios</td>\n",
       "      <td>0111</td>\n",
       "      <td>Cultivo de cereales (excepto arroz), legumbres...</td>\n",
       "    </tr>\n",
       "    <tr>\n",
       "      <th>1</th>\n",
       "      <td>A0112</td>\n",
       "      <td>A</td>\n",
       "      <td>AGRICULTURA, GANADERÍA, CAZA, SILVICULTURA Y P...</td>\n",
       "      <td>01</td>\n",
       "      <td>Agricultura, ganadería, caza y actividades de ...</td>\n",
       "      <td>011</td>\n",
       "      <td>Cultivos agrícolas transitorios</td>\n",
       "      <td>0112</td>\n",
       "      <td>Cultivo de arroz</td>\n",
       "    </tr>\n",
       "    <tr>\n",
       "      <th>2</th>\n",
       "      <td>A0113</td>\n",
       "      <td>A</td>\n",
       "      <td>AGRICULTURA, GANADERÍA, CAZA, SILVICULTURA Y P...</td>\n",
       "      <td>01</td>\n",
       "      <td>Agricultura, ganadería, caza y actividades de ...</td>\n",
       "      <td>011</td>\n",
       "      <td>Cultivos agrícolas transitorios</td>\n",
       "      <td>0113</td>\n",
       "      <td>Cultivo de hortalizas, raíces y tubérculos</td>\n",
       "    </tr>\n",
       "    <tr>\n",
       "      <th>3</th>\n",
       "      <td>A0114</td>\n",
       "      <td>A</td>\n",
       "      <td>AGRICULTURA, GANADERÍA, CAZA, SILVICULTURA Y P...</td>\n",
       "      <td>01</td>\n",
       "      <td>Agricultura, ganadería, caza y actividades de ...</td>\n",
       "      <td>011</td>\n",
       "      <td>Cultivos agrícolas transitorios</td>\n",
       "      <td>0114</td>\n",
       "      <td>Cultivo de tabaco</td>\n",
       "    </tr>\n",
       "    <tr>\n",
       "      <th>4</th>\n",
       "      <td>A0115</td>\n",
       "      <td>A</td>\n",
       "      <td>AGRICULTURA, GANADERÍA, CAZA, SILVICULTURA Y P...</td>\n",
       "      <td>01</td>\n",
       "      <td>Agricultura, ganadería, caza y actividades de ...</td>\n",
       "      <td>011</td>\n",
       "      <td>Cultivos agrícolas transitorios</td>\n",
       "      <td>0115</td>\n",
       "      <td>Cultivo de plantas textiles</td>\n",
       "    </tr>\n",
       "  </tbody>\n",
       "</table>\n",
       "</div>"
      ],
      "text/plain": [
       "    Ciiu Seccion                                        SeccionDesc Division  \\\n",
       "0  A0111       A  AGRICULTURA, GANADERÍA, CAZA, SILVICULTURA Y P...       01   \n",
       "1  A0112       A  AGRICULTURA, GANADERÍA, CAZA, SILVICULTURA Y P...       01   \n",
       "2  A0113       A  AGRICULTURA, GANADERÍA, CAZA, SILVICULTURA Y P...       01   \n",
       "3  A0114       A  AGRICULTURA, GANADERÍA, CAZA, SILVICULTURA Y P...       01   \n",
       "4  A0115       A  AGRICULTURA, GANADERÍA, CAZA, SILVICULTURA Y P...       01   \n",
       "\n",
       "                                        DivisionDesc Grupo  \\\n",
       "0  Agricultura, ganadería, caza y actividades de ...   011   \n",
       "1  Agricultura, ganadería, caza y actividades de ...   011   \n",
       "2  Agricultura, ganadería, caza y actividades de ...   011   \n",
       "3  Agricultura, ganadería, caza y actividades de ...   011   \n",
       "4  Agricultura, ganadería, caza y actividades de ...   011   \n",
       "\n",
       "                          GrupoDesc Clase  \\\n",
       "0  Cultivos agrícolas transitorios   0111   \n",
       "1  Cultivos agrícolas transitorios   0112   \n",
       "2  Cultivos agrícolas transitorios   0113   \n",
       "3  Cultivos agrícolas transitorios   0114   \n",
       "4  Cultivos agrícolas transitorios   0115   \n",
       "\n",
       "                                           ClaseDesc  \n",
       "0  Cultivo de cereales (excepto arroz), legumbres...  \n",
       "1                                  Cultivo de arroz   \n",
       "2        Cultivo de hortalizas, raíces y tubérculos   \n",
       "3                                 Cultivo de tabaco   \n",
       "4                       Cultivo de plantas textiles   "
      ]
     },
     "execution_count": 36,
     "metadata": {},
     "output_type": "execute_result"
    }
   ],
   "source": [
    "# Leer los datos de las extracciones\n",
    "ciiu = pd.read_csv(\"Data/ExtraccionCIIU.csv\",sep=\";\",encoding='utf-8', dtype={'Division': object, \"Grupo\":object, \"Clase\":object})\n",
    "ciiu.head()"
   ]
  },
  {
   "cell_type": "markdown",
   "metadata": {},
   "source": [
    "Los códigos ciiu forman una estructura jerárquica con información sobre la sección, la división, el grupo y la clase de la actividad de la empresa. A continuación se pone a prueba que la operación de fusión se lleve a cabo correctamente."
   ]
  },
  {
   "cell_type": "code",
   "execution_count": 37,
   "metadata": {},
   "outputs": [
    {
     "name": "stdout",
     "output_type": "stream",
     "text": [
      "Columnas de las empresas con la información detallada del código CIIU \n",
      "<class 'pandas.core.frame.DataFrame'>\n",
      "Int64Index: 13357 entries, 0 to 13356\n",
      "Data columns (total 18 columns):\n",
      " #   Column            Non-Null Count  Dtype  \n",
      "---  ------            --------------  -----  \n",
      " 0   Id                13357 non-null  int64  \n",
      " 1   Tipologia         13357 non-null  object \n",
      " 2   Ciiu              13357 non-null  object \n",
      " 3   Sociedad          13357 non-null  object \n",
      " 4   Tamanyo           13357 non-null  object \n",
      " 5   Departamento      13357 non-null  object \n",
      " 6   Localidad         13357 non-null  object \n",
      " 7   NumEmpleados      13357 non-null  float64\n",
      " 8   AnyoConstitucion  13357 non-null  float64\n",
      " 9   NumEmpleadosLog   13357 non-null  float64\n",
      " 10  Seccion           13340 non-null  object \n",
      " 11  SeccionDesc       13340 non-null  object \n",
      " 12  Division          13340 non-null  object \n",
      " 13  DivisionDesc      13340 non-null  object \n",
      " 14  Grupo             13340 non-null  object \n",
      " 15  GrupoDesc         13340 non-null  object \n",
      " 16  Clase             13340 non-null  object \n",
      " 17  ClaseDesc         13340 non-null  object \n",
      "dtypes: float64(3), int64(1), object(14)\n",
      "memory usage: 1.9+ MB\n",
      "\n",
      "Códigos CIIU sin reconocer: ['Q8600' 'Z9999' 'P8540' 'S9400' 'P8500']\n",
      "Tipologias de empresas con códigos CIIU desconocidos: ['ENTIDAD SIN ANIMO DE LUCRO']\n"
     ]
    }
   ],
   "source": [
    "# Juntar los datos\n",
    "basicos_ciiu = basicos_nomissings.merge(ciiu, on=\"Ciiu\",how=\"left\")\n",
    "print(\"Columnas de las empresas con la información detallada del código CIIU \")\n",
    "basicos_ciiu.info()\n",
    "# Ver que empresas tienen códigos ciiu \n",
    "print()\n",
    "print(\"Códigos CIIU sin reconocer: {0}\".format(basicos_ciiu[basicos_ciiu['Seccion'].isna()]['Ciiu'].unique()))\n",
    "print(\"Tipologias de empresas con códigos CIIU desconocidos: {0}\".format(basicos_ciiu[basicos_ciiu['Seccion'].isna()]['Tipologia'].unique()))\n"
   ]
  },
  {
   "cell_type": "markdown",
   "metadata": {},
   "source": [
    "Se observa que existen algunas empresas con códigos CIIU no catalogados. Todas ellas pertenecen a empresas de la tipología \"Entidad sin ánimo de lucro\". \n",
    "\n",
    "Se decide prescindir de estas filas al ser este tipo de entidades y tener un código CIIU no reconocido."
   ]
  },
  {
   "cell_type": "code",
   "execution_count": 38,
   "metadata": {},
   "outputs": [
    {
     "data": {
      "image/png": "[encoded data removed]",
      "text/plain": [
       "<Figure size 432x288 with 1 Axes>"
      ]
     },
     "metadata": {
      "needs_background": "light"
     },
     "output_type": "display_data"
    },
    {
     "name": "stdout",
     "output_type": "stream",
     "text": [
      "Secciones más frecuentes: \n"
     ]
    },
    {
     "data": {
      "text/plain": [
       "COMERCIO AL POR MAYOR Y AL POR MENOR; REPARACIÓN DE VEHÍCULOS AUTOMOTORES Y MOTOCICLETAS    3828\n",
       "INDUSTRIAS MANUFACTURERAS                                                                   2350\n",
       "ACTIVIDADES INMOBILIARIAS                                                                   1791\n",
       "CONSTRUCCIÓN                                                                                1451\n",
       "AGRICULTURA, GANADERÍA, CAZA, SILVICULTURA Y PESCA                                           817\n",
       "Name: SeccionDesc, dtype: int64"
      ]
     },
     "execution_count": 38,
     "metadata": {},
     "output_type": "execute_result"
    }
   ],
   "source": [
    "# Eliminar las filas detectadas\n",
    "basicos_ciiu_corregido = basicos_ciiu.dropna(subset=['Seccion'])\n",
    "# Gráfico de distribución de la variable sección de actividad\n",
    "sns.countplot(data=basicos_ciiu_corregido, x=\"Seccion\")\n",
    "plt.title(\"Distribución de la sección de actividad\")\n",
    "plt.show()\n",
    "# Secciones más frecuentes\n",
    "print(\"Secciones más frecuentes: \")\n",
    "basicos_ciiu_corregido[\"SeccionDesc\"].value_counts()[0:5]"
   ]
  },
  {
   "cell_type": "markdown",
   "metadata": {},
   "source": [
    "La sección más frecuente es el comercio al por mayor y al por menor y la reparación de automóviles (G). En segundo y tercer lugar aparecen las industrias manufactureras (C) y las actividades inmobiliarias (L). El cuarto lugar es ocupado por la construcción y el quinto por la agricultura y similares (A)"
   ]
  },
  {
   "cell_type": "markdown",
   "metadata": {},
   "source": [
    "Por último, se importan los datos de la ruralidad de cada municipio en el dataset de interés y se enlazan a través de cada departamento y municipio del dataset actual.\n",
    "\n",
    "Para que la operación de merge sea satisfactoria, será necesario corregir diferencias entre los nombres de los municipios o departamentos entre los dos juegos de datos, así como algunos errores de departamentos encontrados."
   ]
  },
  {
   "cell_type": "code",
   "execution_count": 39,
   "metadata": {},
   "outputs": [
    {
     "data": {
      "text/html": [
       "<div>\n",
       "<style scoped>\n",
       "    .dataframe tbody tr th:only-of-type {\n",
       "        vertical-align: middle;\n",
       "    }\n",
       "\n",
       "    .dataframe tbody tr th {\n",
       "        vertical-align: top;\n",
       "    }\n",
       "\n",
       "    .dataframe thead th {\n",
       "        text-align: right;\n",
       "    }\n",
       "</style>\n",
       "<table border=\"1\" class=\"dataframe\">\n",
       "  <thead>\n",
       "    <tr style=\"text-align: right;\">\n",
       "      <th></th>\n",
       "      <th>Municipio</th>\n",
       "      <th>Departamento</th>\n",
       "      <th>poblacionTotal</th>\n",
       "      <th>poblacionCabecera</th>\n",
       "      <th>Superficie</th>\n",
       "      <th>CategoriaRural</th>\n",
       "    </tr>\n",
       "  </thead>\n",
       "  <tbody>\n",
       "    <tr>\n",
       "      <th>0</th>\n",
       "      <td>medellin</td>\n",
       "      <td>antioquia</td>\n",
       "      <td>2427129.0</td>\n",
       "      <td>2382399.0</td>\n",
       "      <td>372.419334</td>\n",
       "      <td>Urbana</td>\n",
       "    </tr>\n",
       "    <tr>\n",
       "      <th>1</th>\n",
       "      <td>abejorral</td>\n",
       "      <td>antioquia</td>\n",
       "      <td>20367.0</td>\n",
       "      <td>7674.0</td>\n",
       "      <td>491.450581</td>\n",
       "      <td>Rural</td>\n",
       "    </tr>\n",
       "    <tr>\n",
       "      <th>2</th>\n",
       "      <td>abriaqui</td>\n",
       "      <td>antioquia</td>\n",
       "      <td>2695.0</td>\n",
       "      <td>824.0</td>\n",
       "      <td>288.302005</td>\n",
       "      <td>Rural disperso</td>\n",
       "    </tr>\n",
       "    <tr>\n",
       "      <th>3</th>\n",
       "      <td>alejandria</td>\n",
       "      <td>antioquia</td>\n",
       "      <td>4657.0</td>\n",
       "      <td>2485.0</td>\n",
       "      <td>135.591868</td>\n",
       "      <td>Rural</td>\n",
       "    </tr>\n",
       "    <tr>\n",
       "      <th>4</th>\n",
       "      <td>amaga</td>\n",
       "      <td>antioquia</td>\n",
       "      <td>30227.0</td>\n",
       "      <td>14184.0</td>\n",
       "      <td>85.215263</td>\n",
       "      <td>Intermedia</td>\n",
       "    </tr>\n",
       "  </tbody>\n",
       "</table>\n",
       "</div>"
      ],
      "text/plain": [
       "    Municipio Departamento  poblacionTotal  poblacionCabecera  Superficie  \\\n",
       "0    medellin    antioquia       2427129.0          2382399.0  372.419334   \n",
       "1   abejorral    antioquia         20367.0             7674.0  491.450581   \n",
       "2    abriaqui    antioquia          2695.0              824.0  288.302005   \n",
       "3  alejandria    antioquia          4657.0             2485.0  135.591868   \n",
       "4       amaga    antioquia         30227.0            14184.0   85.215263   \n",
       "\n",
       "   CategoriaRural  \n",
       "0          Urbana  \n",
       "1           Rural  \n",
       "2  Rural disperso  \n",
       "3           Rural  \n",
       "4      Intermedia  "
      ]
     },
     "execution_count": 39,
     "metadata": {},
     "output_type": "execute_result"
    }
   ],
   "source": [
    "ruralidad = pd.read_csv(\"Data/ExtraccionRuralidad.csv\",sep=\";\",encoding='utf-8')\n",
    "ruralidad.head()"
   ]
  },
  {
   "cell_type": "code",
   "execution_count": 40,
   "metadata": {},
   "outputs": [
    {
     "name": "stdout",
     "output_type": "stream",
     "text": [
      "<class 'pandas.core.frame.DataFrame'>\n",
      "Int64Index: 13337 entries, 0 to 13336\n",
      "Data columns (total 24 columns):\n",
      " #   Column             Non-Null Count  Dtype  \n",
      "---  ------             --------------  -----  \n",
      " 0   Id                 13337 non-null  int64  \n",
      " 1   Tipologia          13337 non-null  object \n",
      " 2   Ciiu               13337 non-null  object \n",
      " 3   Sociedad           13337 non-null  object \n",
      " 4   Tamanyo            13337 non-null  object \n",
      " 5   Departamento       13337 non-null  object \n",
      " 6   Localidad          13337 non-null  object \n",
      " 7   NumEmpleados       13337 non-null  float64\n",
      " 8   AnyoConstitucion   13337 non-null  float64\n",
      " 9   NumEmpleadosLog    13337 non-null  float64\n",
      " 10  Seccion            13337 non-null  object \n",
      " 11  SeccionDesc        13337 non-null  object \n",
      " 12  Division           13337 non-null  object \n",
      " 13  DivisionDesc       13337 non-null  object \n",
      " 14  Grupo              13337 non-null  object \n",
      " 15  GrupoDesc          13337 non-null  object \n",
      " 16  Clase              13337 non-null  object \n",
      " 17  ClaseDesc          13337 non-null  object \n",
      " 18  MunicipioMerge     13337 non-null  object \n",
      " 19  DepartamentoMerge  13337 non-null  object \n",
      " 20  poblacionTotal     13337 non-null  float64\n",
      " 21  poblacionCabecera  13337 non-null  float64\n",
      " 22  Superficie         13337 non-null  float64\n",
      " 23  CategoriaRural     13337 non-null  object \n",
      "dtypes: float64(6), int64(1), object(17)\n",
      "memory usage: 2.5+ MB\n"
     ]
    }
   ],
   "source": [
    "# Deshabilitar warnings por asignación en copia\n",
    "pd.set_option('mode.chained_assignment', None)\n",
    "# Crear las nuevas columnas para la operación de merge\n",
    "basicos_ciiu_corregido['MunicipioMerge'] = basicos_ciiu_corregido.apply(lambda x: unidecode.unidecode(x['Localidad']).lower().strip(), axis=1)\n",
    "basicos_ciiu_corregido['DepartamentoMerge'] = basicos_ciiu_corregido.apply(lambda x: unidecode.unidecode(x['Departamento']).lower().strip(), axis=1)\n",
    "\n",
    "# Cambiar el nombre de las columnas del dataset importado\n",
    "ruralidad = ruralidad.rename(columns={'Municipio': 'MunicipioMerge', 'Departamento': 'DepartamentoMerge'})\n",
    "\n",
    "# Poner en acorde los nombres de los departamentos que difieren\n",
    "ruralidad.at[ruralidad['DepartamentoMerge'] == 'valle del cauca','DepartamentoMerge'] = 'valle'\n",
    "ruralidad.at[ruralidad['DepartamentoMerge'] == 'norte de santander','DepartamentoMerge'] = 'norte santander'\n",
    "# Poner en acorde los nombres de los municipios que difieren\n",
    "ruralidad.at[ruralidad['MunicipioMerge'] == 'villa de san diego de ubate','MunicipioMerge'] = 'ubate'\n",
    "ruralidad.at[ruralidad['MunicipioMerge'] == 'guadalajara de buga','MunicipioMerge'] = 'buga'\n",
    "ruralidad.at[ruralidad['MunicipioMerge'] == 'villa del rosario','MunicipioMerge'] = 'villa rosario'\n",
    "ruralidad.at[ruralidad['MunicipioMerge'] == 'el carmen de viboral', 'MunicipioMerge'] = 'carmen de viboral'\n",
    "# Corregir los datos erróneos de las poblaciones del dataset de las superintendencias\n",
    "basicos_ciiu_corregido.at[(basicos_ciiu_corregido['MunicipioMerge'] == 'mosquera') & (basicos_ciiu_corregido['DepartamentoMerge'] == 'bogota'),'DepartamentoMerge'] = 'cundinamarca'\n",
    "basicos_ciiu_corregido.at[basicos_ciiu_corregido['MunicipioMerge'] == 'bogota','DepartamentoMerge'] = 'bogota'\n",
    "basicos_ciiu_corregido.at[basicos_ciiu_corregido['MunicipioMerge'] == 'cota' ,'DepartamentoMerge'] = 'cundinamarca'\n",
    "basicos_ciiu_corregido.at[basicos_ciiu_corregido['MunicipioMerge'] == 'san pablo' ,'DepartamentoMerge'] = 'narino'\n",
    "basicos_ciiu_corregido.at[basicos_ciiu_corregido['MunicipioMerge'] == 'manizales' ,'DepartamentoMerge'] = 'caldas'\n",
    "basicos_ciiu_corregido.at[basicos_ciiu_corregido['MunicipioMerge'] == 'madrid' ,'DepartamentoMerge'] = 'cundinamarca'\n",
    "basicos_ciiu_corregido.at[basicos_ciiu_corregido['MunicipioMerge'] == 'guasca' ,'DepartamentoMerge'] = 'cundinamarca'\n",
    "basicos_ciiu_corregido.at[basicos_ciiu_corregido['MunicipioMerge'] == 'cali' ,'DepartamentoMerge'] = 'valle'\n",
    "# Eliminar los municipios no existentes en colombia\n",
    "basicos_ciiu_corregido = basicos_ciiu_corregido[basicos_ciiu_corregido['MunicipioMerge'] != 'chicago']\n",
    "basicos_ciiu_corregido = basicos_ciiu_corregido[basicos_ciiu_corregido['MunicipioMerge'] != 'sao paulo']\n",
    "# Empresa erronea con localidad en valle (cuando es un departamento). Se elimina del dataset ya que es sin ánimo de lucro igualmente\n",
    "basicos_ciiu_corregido = basicos_ciiu_corregido[basicos_ciiu_corregido['MunicipioMerge'] != 'valle']\n",
    "\n",
    "# Operación de merge y observación de las nuevas columnas\n",
    "mergeResult = basicos_ciiu_corregido.merge(ruralidad, on=['MunicipioMerge','DepartamentoMerge'], how='left')\n",
    "mergeResult.info()"
   ]
  },
  {
   "cell_type": "markdown",
   "metadata": {},
   "source": [
    "La operación de merge es satisfactoria e informa correctamente de la categoría rural de todas las empresas del dataset. Por último, se renombran las columnas y se eliminan aquellas que no aportan valor:\n",
    "\n",
    "* Descripciones de la actividad de la empresa. El código de la actividad desglosado representa la misma información.\n",
    "* Número de habitantes y superficie del municipio. Ya se cuenta con la categoría rural de cada municipio, que es un dato derivado de estos.\n",
    "* Código CIIU. No resulta interesante tener el código compacto para cada empresa, aporta más valor su desglose en nuevas columnas.\n",
    "* Columnas varias como los índices de los datasets de extracción."
   ]
  },
  {
   "cell_type": "code",
   "execution_count": 41,
   "metadata": {},
   "outputs": [
    {
     "name": "stdout",
     "output_type": "stream",
     "text": [
      "<class 'pandas.core.frame.DataFrame'>\n",
      "Int64Index: 13337 entries, 0 to 13336\n",
      "Data columns (total 13 columns):\n",
      " #   Column            Non-Null Count  Dtype  \n",
      "---  ------            --------------  -----  \n",
      " 0   Id                13337 non-null  int64  \n",
      " 1   Tipologia         13337 non-null  object \n",
      " 2   Sociedad          13337 non-null  object \n",
      " 3   NumEmpleadosLog   13337 non-null  float64\n",
      " 4   Tamanyo           13337 non-null  object \n",
      " 5   Departamento      13337 non-null  object \n",
      " 6   Municipio         13337 non-null  object \n",
      " 7   AnyoConstitucion  13337 non-null  int32  \n",
      " 8   Seccion           13337 non-null  object \n",
      " 9   Division          13337 non-null  object \n",
      " 10  Grupo             13337 non-null  object \n",
      " 11  Clase             13337 non-null  object \n",
      " 12  CategoriaRural    13337 non-null  object \n",
      "dtypes: float64(1), int32(1), int64(1), object(10)\n",
      "memory usage: 1.4+ MB\n"
     ]
    }
   ],
   "source": [
    "# Columnas a preservar\n",
    "columnas = ['Id','Tipologia','Sociedad','NumEmpleadosLog', 'Tamanyo','DepartamentoMerge','MunicipioMerge','AnyoConstitucion',\\\n",
    "           'Seccion','Division','Grupo','Clase','CategoriaRural']\n",
    "\n",
    "# Renombrar columnas\n",
    "seleccion = mergeResult[columnas]\n",
    "seleccion = seleccion.rename(columns={'DepartamentoMerge': 'Departamento', 'MunicipioMerge': 'Municipio'})\n",
    "\n",
    "# Asignar tipos correctamente\n",
    "seleccion = seleccion.astype({\"AnyoConstitucion\": int, \"Division\":str, \"Grupo\":str, \"Clase\":str})\n",
    "seleccion.info()"
   ]
  },
  {
   "cell_type": "code",
   "execution_count": 42,
   "metadata": {},
   "outputs": [],
   "source": [
    "# Guardar los datos\n",
    "seleccion.to_csv(\"data/DatosEmpresaClean.csv\", sep=\";\", encoding=\"utf-8\", index=False)"
   ]
  }
 ],
 "metadata": {
  "kernelspec": {
   "display_name": "Python 3",
   "language": "python",
   "name": "python3"
  },
  "language_info": {
   "codemirror_mode": {
    "name": "ipython",
    "version": 3
   },
   "file_extension": ".py",
   "mimetype": "text/x-python",
   "name": "python",
   "nbconvert_exporter": "python",
   "pygments_lexer": "ipython3",
   "version": "3.7.0"
  }
 },
 "nbformat": 4,
 "nbformat_minor": 4
}
